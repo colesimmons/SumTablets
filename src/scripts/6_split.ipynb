{
 "cells": [
  {
   "cell_type": "markdown",
   "metadata": {},
   "source": [
    "## Under construction!"
   ]
  },
  {
   "cell_type": "code",
   "execution_count": null,
   "metadata": {},
   "outputs": [],
   "source": [
    "import pandas as pd\n",
    "from sklearn.model_selection import train_test_split\n",
    "\n",
    "from src.constants import OUTPUT_DIR\n",
    "\n",
    "INFILE = f\"{OUTPUT_DIR}/5_with_glyphs.csv\"\n",
    "\n",
    "\n",
    "def main():\n",
    "    df = pd.read_csv(INFILE, low_memory=False, encoding=\"utf-8\")\n",
    "\n",
    "    # Separate out the Lexical genre rows\n",
    "    # We only want to use these for training\n",
    "    lexical_df = df[df[\"genre\"] == \"Lexical\"]\n",
    "    non_lexical_df = df[df[\"genre\"] != \"Lexical\"]\n",
    "\n",
    "    # Split the dataframe into a train, test, and val sets\n",
    "    # 95% train, 5% val, 5% test\n",
    "    train_val_df, test_df = train_test_split(\n",
    "        non_lexical_df,\n",
    "        stratify=non_lexical_df[\"period\"],\n",
    "        test_size=0.05,\n",
    "        random_state=42,\n",
    "    )\n",
    "    train_df, val_df = train_test_split(\n",
    "        train_val_df,\n",
    "        stratify=train_val_df[\"period\"],\n",
    "        test_size=(5 / 95),\n",
    "        random_state=42,\n",
    "    )\n",
    "    train_df = pd.concat([train_df, lexical_df])\n",
    "\n",
    "    print(f\"Train: {len(train_df)}\")\n",
    "    print(f\"Test: {len(test_df)}\")\n",
    "    print(f\"Val: {len(val_df)}\")\n",
    "\n",
    "    for name, df in ((\"Train\", train_df), (\"Test\", test_df), (\"Val\", val_df)):\n",
    "        # Print how many examples we have for each period and genre\n",
    "        print()\n",
    "        print(f\"-- {name} --\")\n",
    "        print(df[\"period\"].value_counts())\n",
    "        print()\n",
    "        print(df[\"genre\"].value_counts())\n",
    "        print()\n",
    "\n",
    "    # Shuffle em up\n",
    "    train_df = train_df.sample(frac=1).reset_index(drop=True)\n",
    "    test_df = test_df.sample(frac=1).reset_index(drop=True)\n",
    "    val_df = val_df.sample(frac=1).reset_index(drop=True)\n",
    "\n",
    "    # Write to csv\n",
    "    train_df.to_csv(f\"{OUTPUT_DIR}/train.csv\", index=False, encoding=\"utf-8\")\n",
    "    val_df.to_csv(f\"{OUTPUT_DIR}/validation.csv\", index=False, encoding=\"utf-8\")\n",
    "    test_df.to_csv(f\"{OUTPUT_DIR}/test.csv\", index=False, encoding=\"utf-8\")\n",
    "    return\n",
    "\n",
    "\n",
    "if __name__ == \"__main__\":\n",
    "    main()"
   ]
  }
 ],
 "metadata": {
  "language_info": {
   "name": "python"
  }
 },
 "nbformat": 4,
 "nbformat_minor": 2
}

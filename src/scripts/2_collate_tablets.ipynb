{
 "cells": [
  {
   "cell_type": "markdown",
   "metadata": {},
   "source": [
    "# Collate the dataframes from step 1 into a single dataframe\n",
    "\n",
    "In this step, we also:\n",
    "- drop rows that are not Sumerian\n",
    "- drop rows that don't have transliteration\n",
    "- drop excess columns (only keep id, transliteration, period, and genre)\n",
    "- drop duplicates\n",
    "- standardize periods and genres\n",
    "\n",
    "The result is saved to `outputs/2_tablets.csv`.\n",
    "\n",
    "---"
   ]
  },
  {
   "cell_type": "markdown",
   "metadata": {},
   "source": [
    "## Requirements"
   ]
  },
  {
   "cell_type": "code",
   "execution_count": 3,
   "metadata": {},
   "outputs": [],
   "source": [
    "import pandas as pd\n",
    "from tqdm import tqdm\n",
    "from pathlib import Path\n",
    "\n",
    "tqdm.pandas()\n",
    "\n",
    "PROJECT_ROOT = Path.cwd().parents[1]\n",
    "OUTFILE = PROJECT_ROOT / \"outputs\" / \"2_tablets.csv\""
   ]
  },
  {
   "cell_type": "markdown",
   "metadata": {},
   "source": [
    "## Load files, join, filter out unwanted rows, standardize, save"
   ]
  },
  {
   "cell_type": "code",
   "execution_count": 6,
   "metadata": {},
   "outputs": [
    {
     "name": "stdout",
     "output_type": "stream",
     "text": [
      "Starting number of texts: 94410\n"
     ]
    },
    {
     "name": "stderr",
     "output_type": "stream",
     "text": [
      "/var/folders/gc/t2lltr8d7yb_hytn5gf12xbr0000gn/T/ipykernel_24168/2262418561.py:6: DtypeWarning: Columns (27,30,32,33,34,37,41,43,44,47,49,50,51,52,53,54,55,56,57,59) have mixed types. Specify dtype option on import or set low_memory=False.\n",
      "  df = pd.concat([pd.read_csv(f) for f in path.glob(\"1_*.csv\")])\n"
     ]
    }
   ],
   "source": [
    "def load_files_and_concat():\n",
    "    # Load all files like \"outputs/1_<corpus_name>.csv\"\n",
    "    # and concatenate them into a single dataframe\n",
    "    # return the dataframe\n",
    "    path = PROJECT_ROOT / \"outputs\"\n",
    "    df = pd.concat([pd.read_csv(f) for f in path.glob(\"1_*.csv\")])\n",
    "    return df\n",
    "\n",
    "\n",
    "df = load_files_and_concat()\n",
    "print(f\"Starting number of texts: {len(df)}\")"
   ]
  },
  {
   "cell_type": "code",
   "execution_count": 9,
   "metadata": {},
   "outputs": [
    {
     "name": "stdout",
     "output_type": "stream",
     "text": [
      "Dropping rows that are not Sumerian...\n",
      "Updated number of texts: 91296\n",
      "\n",
      "Dropping rows without transliteration...\n",
      "Updated number of texts: 91296\n",
      "\n",
      "Drop duplicates...\n",
      "Updated number of texts: 91296\n",
      "\n",
      "✅ Done\n"
     ]
    }
   ],
   "source": [
    "def filter_rows(df: pd.DataFrame) -> pd.DataFrame:\n",
    "    # language is \"Sumerian\" or \"\"\n",
    "    print(\"Dropping rows that are not Sumerian...\")\n",
    "    df = df[df[\"language\"].isin([\"Sumerian\", \"\"])]\n",
    "    df = df[~df[\"langs\"].astype(str).str.contains(\"akk\", na=False)]\n",
    "    df = df[df[\"period\"] != \"Ebla\"]\n",
    "    df = df[df[\"period\"] != \"fake\"]\n",
    "    df = df[df[\"period\"] != \"Pre-Uruk V\"]\n",
    "    df = df[df[\"genre\"] != \"fake (modern)\"]\n",
    "    print(f\"Updated number of texts: {len(df)}\")\n",
    "    print()\n",
    "\n",
    "    # Print number of texts without transliteration\n",
    "    print(\"Dropping rows without transliteration...\")\n",
    "    df = df[df[\"transliteration\"] != \"\"]\n",
    "    print(f\"Updated number of texts: {len(df)}\")\n",
    "    print()\n",
    "\n",
    "    # Drop duplicates based on id\n",
    "    print(\"Drop duplicates...\")\n",
    "    df = df.drop_duplicates(subset=\"id\")\n",
    "    print(f\"Updated number of texts: {len(df)}\")\n",
    "    print()\n",
    "    print(\"✅ Done\")\n",
    "\n",
    "    return df\n",
    "\n",
    "\n",
    "df = filter_rows(df)"
   ]
  },
  {
   "cell_type": "code",
   "execution_count": 10,
   "metadata": {},
   "outputs": [
    {
     "name": "stdout",
     "output_type": "stream",
     "text": [
      "✅ Done\n"
     ]
    }
   ],
   "source": [
    "def standardize(df: pd.DataFrame) -> pd.DataFrame:\n",
    "    # Drop unnecessary columns\n",
    "    df = df[[\"id\", \"transliteration\", \"period\", \"genre\"]]\n",
    "\n",
    "    # Standardize periods\n",
    "    df.loc[df[\"period\"].isin({\"\", \"Uncertain\"}), \"period\"] = \"Unknown\"\n",
    "\n",
    "    # Standardize genres\n",
    "    df.loc[df[\"genre\"].isin({\"\", \"uncertain\"}), \"genre\"] = \"Unknown\"\n",
    "    df.loc[df[\"genre\"].isin({\"Royal/Monumental\", \"Royal Inscription\"}), \"genre\"] = (\n",
    "        \"Royal Inscription\"\n",
    "    )\n",
    "    df.loc[df[\"genre\"].isin({\"Lexical; School\", \"Lexical\"}), \"genre\"] = \"Lexical\"\n",
    "    df.loc[df[\"genre\"].isin({\"Liturgy\", \"Ritual\", \"Hymn-Prayer\"}), \"genre\"] = \"Liturgy\"\n",
    "    df.loc[\n",
    "        df[\"genre\"].isin({\"Mathematical\", \"Scientific\", \"Astronomical\"}), \"genre\"\n",
    "    ] = \"Math/Science\"\n",
    "    return df\n",
    "\n",
    "\n",
    "df = standardize(df)\n",
    "print(\"✅ Done\")"
   ]
  },
  {
   "cell_type": "code",
   "execution_count": 11,
   "metadata": {},
   "outputs": [
    {
     "name": "stdout",
     "output_type": "stream",
     "text": [
      "period\n",
      "Ur III                 79934\n",
      "Old Akkadian            5288\n",
      "Early Dynastic IIIb     3469\n",
      "Old Babylonian           936\n",
      "Early Dynastic IIIa      850\n",
      "Lagash II                674\n",
      "Early Dynastic I-II       88\n",
      "Middle Babylonian          7\n",
      "Neo-Babylonian             5\n",
      "Neo-Assyrian               2\n",
      "Unknown                    2\n",
      "Name: count, dtype: int64\n",
      "\n",
      "genre\n",
      "Administrative       87406\n",
      "Royal Inscription     1208\n",
      "Letter                 804\n",
      "Literary               785\n",
      "Legal                  621\n",
      "Lexical                 69\n",
      "Liturgy                 63\n",
      "Unknown                 60\n",
      "Math/Science            13\n",
      "Name: count, dtype: int64\n"
     ]
    }
   ],
   "source": [
    "def print_stats(df: pd.DataFrame):\n",
    "    print(df[\"period\"].value_counts())\n",
    "    print()\n",
    "    print(df[\"genre\"].value_counts())\n",
    "\n",
    "\n",
    "print_stats(df)"
   ]
  },
  {
   "cell_type": "code",
   "execution_count": 12,
   "metadata": {},
   "outputs": [
    {
     "name": "stdout",
     "output_type": "stream",
     "text": [
      "Saving to csv at /Users/cole/dev/sumerian/SumTablets/outputs/2_tablets.csv...\n",
      "\n",
      "✅ Done\n"
     ]
    }
   ],
   "source": [
    "def save(df: pd.DataFrame):\n",
    "    print(f\"Saving to csv at {OUTFILE}...\")\n",
    "    df.to_csv(OUTFILE, index=False)\n",
    "    print()\n",
    "    print(\"✅ Done\")\n",
    "\n",
    "\n",
    "save(df)"
   ]
  },
  {
   "cell_type": "code",
   "execution_count": null,
   "metadata": {},
   "outputs": [],
   "source": []
  }
 ],
 "metadata": {
  "kernelspec": {
   "display_name": ".venv",
   "language": "python",
   "name": "python3"
  },
  "language_info": {
   "codemirror_mode": {
    "name": "ipython",
    "version": 3
   },
   "file_extension": ".py",
   "mimetype": "text/x-python",
   "name": "python",
   "nbconvert_exporter": "python",
   "pygments_lexer": "ipython3",
   "version": "3.12.4"
  }
 },
 "nbformat": 4,
 "nbformat_minor": 2
}
